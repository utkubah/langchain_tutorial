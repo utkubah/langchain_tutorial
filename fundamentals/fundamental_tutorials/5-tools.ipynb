{
 "cells": [
  {
   "cell_type": "markdown",
   "id": "b718fb67",
   "metadata": {},
   "source": [
    "# Tools"
   ]
  },
  {
   "cell_type": "markdown",
   "id": "52b99245",
   "metadata": {},
   "source": [
    "### How to create tools"
   ]
  }
 ],
 "metadata": {
  "kernelspec": {
   "display_name": "Python 3",
   "language": "python",
   "name": "python3"
  },
  "language_info": {
   "name": "python",
   "version": "3.11.4"
  }
 },
 "nbformat": 4,
 "nbformat_minor": 5
}
