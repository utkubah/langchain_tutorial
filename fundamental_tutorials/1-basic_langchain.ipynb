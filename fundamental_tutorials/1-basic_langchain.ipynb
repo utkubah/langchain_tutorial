{
 "cells": [
  {
   "cell_type": "markdown",
   "id": "47da4413",
   "metadata": {},
   "source": [
    "# LANGCHAIN\n",
    "\n",
    "Langchain is an open source framework that gives us an unified interface to connect LLMs (model agnostic)\n",
    "\n",
    "The core building blocks of LangChain are:\n",
    "- Models (LLMs/ChatModels): wrappers around LLM APIs (generation, chat, embeddings).\n",
    "\n",
    "- Prompts/Prompt Templates: parametric instructions sent to models.\n",
    "\n",
    "- Chains: sequences of calls to models, retrievers, other chains, etc. (can include branching, loops).\n",
    "\n",
    "- Memory: state storage for chat history or facts, making chains stateful​\n",
    "\n",
    "- Retrieval (RAG): fetching documents from a vector store or knowledge base to ground the model.\n",
    "\n",
    "- Agents & Tools: decision-making LLM agents that use tools to answer questions."
   ]
  },
  {
   "cell_type": "markdown",
   "id": "f2d52824",
   "metadata": {},
   "source": [
    "### Provider"
   ]
  },
  {
   "cell_type": "code",
   "execution_count": 1,
   "id": "0aabef08",
   "metadata": {},
   "outputs": [],
   "source": [
    "from langchain_core.messages import HumanMessage, SystemMessage, AIMessage\n",
    "import os\n",
    "from dotenv import load_dotenv\n",
    "\n",
    "load_dotenv()\n",
    "\n",
    "\n",
    "from langchain_google_genai import ChatGoogleGenerativeAI\n",
    "\n",
    "llm = ChatGoogleGenerativeAI(\n",
    "    model=\"gemini-2.0-flash-lite\",\n",
    "    google_api_key= os.getenv(\"GOOGLE_API_KEY\")\n",
    ")"
   ]
  },
  {
   "cell_type": "code",
   "execution_count": 2,
   "id": "2f74c0ad",
   "metadata": {},
   "outputs": [
    {
     "name": "stdout",
     "output_type": "stream",
     "text": [
      "Ciao!\n"
     ]
    }
   ],
   "source": [
    "messages = [\n",
    "    SystemMessage(\"Translate the following from English into Italian\"),\n",
    "    HumanMessage(\"How are you?\"),\n",
    "    AIMessage(\"Come stai?\"),\n",
    "    HumanMessage(\"hi!\")\n",
    "]\n",
    "\n",
    "response = llm.invoke(messages)\n",
    "print(response.content)"
   ]
  },
  {
   "cell_type": "markdown",
   "id": "faabf466",
   "metadata": {},
   "source": [
    "### Basic Prompting"
   ]
  },
  {
   "cell_type": "code",
   "execution_count": 3,
   "id": "e1d8f9ab",
   "metadata": {},
   "outputs": [
    {
     "name": "stdout",
     "output_type": "stream",
     "text": [
      "[SystemMessage(content='Translate the following from English into Italian', additional_kwargs={}, response_metadata={}), HumanMessage(content='hi!', additional_kwargs={}, response_metadata={})]\n",
      "Ciao!\n"
     ]
    }
   ],
   "source": [
    "from langchain_core.prompts import ChatPromptTemplate\n",
    "\n",
    "system_template = \"Translate the following from English into {language}\"\n",
    "\n",
    "prompt_template = ChatPromptTemplate.from_messages(\n",
    "    [(\"system\", system_template), (\"user\", \"{text}\")]\n",
    ")\n",
    "\n",
    "prompt = prompt_template.invoke({\"language\": \"Italian\", \"text\": \"hi!\"})\n",
    "\n",
    "print(prompt.messages)\n",
    "\n",
    "response = llm.invoke(prompt)\n",
    "print(response.content)"
   ]
  }
 ],
 "metadata": {
  "kernelspec": {
   "display_name": "langchain",
   "language": "python",
   "name": "python3"
  },
  "language_info": {
   "codemirror_mode": {
    "name": "ipython",
    "version": 3
   },
   "file_extension": ".py",
   "mimetype": "text/x-python",
   "name": "python",
   "nbconvert_exporter": "python",
   "pygments_lexer": "ipython3",
   "version": "3.11.11"
  }
 },
 "nbformat": 4,
 "nbformat_minor": 5
}
