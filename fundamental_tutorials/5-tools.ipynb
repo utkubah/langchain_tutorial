{
 "cells": [
  {
   "cell_type": "markdown",
   "id": "b718fb67",
   "metadata": {},
   "source": [
    "# Tools\n",
    "\n",
    "The tool abstraction in LangChain associates a Python function with a schema that defines the function's name, description and expected arguments"
   ]
  },
  {
   "cell_type": "markdown",
   "id": "ff9adc69",
   "metadata": {},
   "source": [
    "The key attributes that correspond to the tool's schema:\n",
    "\n",
    "- name: The name of the tool.\n",
    "\n",
    "- description: A description of what the tool does.\n",
    "\n",
    "- args: Property that returns the JSON schema for the tool's arguments.\n",
    "\n",
    "\n",
    "The key methods to execute the function associated with the tool:\n",
    "\n",
    "- invoke: Invokes the tool with the given arguments.\n",
    "\n",
    "- ainvoke: Invokes the tool with the given arguments, asynchronously. Used for async programming with Langchain."
   ]
  },
  {
   "cell_type": "markdown",
   "id": "52b99245",
   "metadata": {},
   "source": [
    "### How to create tools using the @tool decorator"
   ]
  },
  {
   "cell_type": "code",
   "execution_count": 7,
   "id": "62e1b15a",
   "metadata": {},
   "outputs": [
    {
     "name": "stdout",
     "output_type": "stream",
     "text": [
      "multiply\n",
      "Multiply two numbers.\n",
      "{'a': {'title': 'A', 'type': 'integer'}, 'b': {'title': 'B', 'type': 'integer'}}\n"
     ]
    }
   ],
   "source": [
    "from langchain_core.tools import tool\n",
    "\n",
    "\n",
    "@tool\n",
    "def multiply(a: int, b: int) -> int:\n",
    "    \"\"\"Multiply two numbers.\"\"\"\n",
    "    return a * b\n",
    "\n",
    "\n",
    "# Let's inspect some of the attributes associated with the tool.\n",
    "print(multiply.name)\n",
    "print(multiply.description)\n",
    "print(multiply.args)"
   ]
  },
  {
   "cell_type": "code",
   "execution_count": 8,
   "id": "ff177694",
   "metadata": {},
   "outputs": [
    {
     "name": "stdout",
     "output_type": "stream",
     "text": [
      "multiplication-tool\n",
      "Multiply two numbers.\n",
      "{'a': {'description': 'first number', 'title': 'A', 'type': 'integer'}, 'b': {'description': 'second number', 'title': 'B', 'type': 'integer'}}\n",
      "True\n"
     ]
    }
   ],
   "source": [
    "from pydantic import BaseModel, Field\n",
    "\n",
    "\n",
    "class CalculatorInput(BaseModel):\n",
    "    a: int = Field(description=\"first number\")\n",
    "    b: int = Field(description=\"second number\")\n",
    "\n",
    "\n",
    "@tool(\"multiplication-tool\", args_schema=CalculatorInput, return_direct=True)\n",
    "def multiply(a: int, b: int) -> int:\n",
    "    \"\"\"Multiply two numbers.\"\"\"\n",
    "    return a * b\n",
    "\n",
    "\n",
    "# Let's inspect some of the attributes associated with the tool.\n",
    "print(multiply.name)\n",
    "print(multiply.description)\n",
    "print(multiply.args)\n",
    "print(multiply.return_direct)"
   ]
  },
  {
   "cell_type": "markdown",
   "id": "fedd345a",
   "metadata": {},
   "source": [
    "### How to create tools with StructuredTool"
   ]
  },
  {
   "cell_type": "code",
   "execution_count": 9,
   "id": "7c8f67e9",
   "metadata": {},
   "outputs": [],
   "source": [
    "from langchain_core.tools import StructuredTool\n",
    "from pydantic import BaseModel, Field\n",
    "\n",
    "class CalculatorInput(BaseModel):\n",
    "    a: int = Field(description=\"first number\")\n",
    "    b: int = Field(description=\"second number\")\n",
    "\n",
    "\n",
    "def add(a: int, b: int) -> int:\n",
    "    \"\"\"Add two integers.\n",
    "\n",
    "    Args:\n",
    "        a: First integer\n",
    "        b: Second integer\n",
    "    \"\"\"\n",
    "    return a + b\n",
    "\n",
    "\n",
    "def multiply(a: int, b: int) -> int:\n",
    "    \"\"\"Multiply two integers.\n",
    "\n",
    "    Args:\n",
    "        a: First integer\n",
    "        b: Second integer\n",
    "    \"\"\"\n",
    "    return a * b\n",
    "\n",
    "\n",
    "\n",
    "multiply_tool = StructuredTool.from_function(\n",
    "    func=multiply,\n",
    "    name=\"multiply\", \n",
    "    args_schema= CalculatorInput,\n",
    "    return_direct=True\n",
    "    #coroutine= for async tool\n",
    "    )\n",
    "\n",
    "\n",
    "add_tool = StructuredTool.from_function(\n",
    "    func=add,\n",
    "    name=\"add\", \n",
    "    args_schema= CalculatorInput,\n",
    "    return_direct=True\n",
    "    #coroutine= for async tool\n",
    "    )"
   ]
  },
  {
   "cell_type": "markdown",
   "id": "01611321",
   "metadata": {},
   "source": [
    "### Raising errors"
   ]
  },
  {
   "cell_type": "code",
   "execution_count": 10,
   "id": "e9fd0d50",
   "metadata": {},
   "outputs": [
    {
     "data": {
      "text/plain": [
       "'Error: There is no city by the name of foobar.'"
      ]
     },
     "execution_count": 10,
     "metadata": {},
     "output_type": "execute_result"
    }
   ],
   "source": [
    "from langchain_core.tools import ToolException\n",
    "\n",
    "\n",
    "def get_weather(city: str) -> int:\n",
    "    \"\"\"Get weather for the given city.\"\"\"\n",
    "    raise ToolException(f\"Error: There is no city by the name of {city}.\")\n",
    "\n",
    "\n",
    "get_weather_tool = StructuredTool.from_function(\n",
    "    func=get_weather,\n",
    "    handle_tool_error=True, # or a string \n",
    ")\n",
    "\n",
    "get_weather_tool.invoke({\"city\": \"foobar\"})"
   ]
  },
  {
   "cell_type": "markdown",
   "id": "6e714598",
   "metadata": {},
   "source": [
    "### Best practices\n",
    "When designing tools to be used by models, keep the following in mind:\n",
    "\n",
    "* Tools that are well-named, correctly-documented and properly type-hinted are easier for models to use.\n",
    "* Design simple and narrowly scoped tools, as they are easier for models to use correctly.\n",
    "* Use chat models that support tool-calling APIs to take advantage of tools.\n",
    "* Asking the model to select from a large list of tools poses challenges for the model."
   ]
  },
  {
   "cell_type": "markdown",
   "id": "29d5e170",
   "metadata": {},
   "source": [
    "### Binding tools to LLMs"
   ]
  },
  {
   "cell_type": "markdown",
   "id": "f604d345",
   "metadata": {},
   "source": [
    "![alt text](tool_call-8d4a8b18e90cacd03f62e94071eceace.png)"
   ]
  },
  {
   "cell_type": "code",
   "execution_count": 11,
   "id": "53f6f646",
   "metadata": {},
   "outputs": [],
   "source": [
    "import os\n",
    "from dotenv import load_dotenv\n",
    "from langchain_google_genai import ChatGoogleGenerativeAI\n",
    "\n",
    "load_dotenv()\n",
    "\n",
    "\n",
    "llm = ChatGoogleGenerativeAI(\n",
    "    model=\"gemini-2.0-flash-lite\",\n",
    "    google_api_key= os.getenv(\"GOOGLE_API_KEY\")\n",
    ")"
   ]
  },
  {
   "cell_type": "code",
   "execution_count": 12,
   "id": "4927f677",
   "metadata": {},
   "outputs": [
    {
     "data": {
      "text/plain": [
       "[{'name': 'multiply',\n",
       "  'args': {'a': 3.0, 'b': 12.0},\n",
       "  'id': '95009fcb-89e0-41c0-902d-dc521eaf3661',\n",
       "  'type': 'tool_call'},\n",
       " {'name': 'add',\n",
       "  'args': {'a': 11.0, 'b': 49.0},\n",
       "  'id': 'be0dd173-27a0-4110-980d-ce8774289655',\n",
       "  'type': 'tool_call'}]"
      ]
     },
     "execution_count": 12,
     "metadata": {},
     "output_type": "execute_result"
    }
   ],
   "source": [
    "tools = [add_tool,multiply_tool]\n",
    "\n",
    "llm_with_tools = llm.bind_tools(tools)\n",
    "\n",
    "query = \"What is 3 * 12? Also, what is 11 + 49\"\n",
    "\n",
    "response = llm_with_tools.invoke(query)\n",
    "\n",
    "response.tool_calls"
   ]
  },
  {
   "cell_type": "markdown",
   "id": "cdd64640",
   "metadata": {},
   "source": [
    "### Passing the tool output back to the model"
   ]
  },
  {
   "cell_type": "markdown",
   "id": "4c5fedf5",
   "metadata": {},
   "source": [
    "![alt text](tool_invocation-7f277888701ee431a17607f1a035c080.png)"
   ]
  },
  {
   "cell_type": "markdown",
   "id": "d94a6b52",
   "metadata": {},
   "source": [
    "![alt text](tool_results-71b4b90f33a56563c102d91e7821a993.png)"
   ]
  },
  {
   "cell_type": "code",
   "execution_count": null,
   "id": "f5bb6483",
   "metadata": {},
   "outputs": [
    {
     "data": {
      "text/plain": [
       "[HumanMessage(content='What is 3 * 12? Also, what is 11 + 49', additional_kwargs={}, response_metadata={}),\n",
       " AIMessage(content='', additional_kwargs={'function_call': {'name': 'add', 'arguments': '{\"a\": 11.0, \"b\": 49.0}'}}, response_metadata={'prompt_feedback': {'block_reason': 0, 'safety_ratings': []}, 'finish_reason': 'STOP', 'model_name': 'gemini-2.0-flash-lite', 'safety_ratings': []}, id='run-588a0bd7-9640-4d0c-8c3a-a216b4960461-0', tool_calls=[{'name': 'multiply', 'args': {'a': 3.0, 'b': 12.0}, 'id': '95009fcb-89e0-41c0-902d-dc521eaf3661', 'type': 'tool_call'}, {'name': 'add', 'args': {'a': 11.0, 'b': 49.0}, 'id': 'be0dd173-27a0-4110-980d-ce8774289655', 'type': 'tool_call'}], usage_metadata={'input_tokens': 84, 'output_tokens': 10, 'total_tokens': 94, 'input_token_details': {'cache_read': 0}}),\n",
       " ToolMessage(content='36', name='multiply', tool_call_id='95009fcb-89e0-41c0-902d-dc521eaf3661'),\n",
       " ToolMessage(content='60', name='add', tool_call_id='be0dd173-27a0-4110-980d-ce8774289655')]"
      ]
     },
     "execution_count": 18,
     "metadata": {},
     "output_type": "execute_result"
    }
   ],
   "source": [
    "from langchain_core.messages import HumanMessage\n",
    "\n",
    "messages = [HumanMessage(query)]\n",
    "\n",
    "messages.append(response)\n",
    "\n",
    "for tool_call in response.tool_calls:\n",
    "    selected_tool = {\"add\": add_tool, \"multiply\": multiply_tool}[tool_call[\"name\"].lower()]\n",
    "    tool_msg = selected_tool.invoke(tool_call)\n",
    "    messages.append(tool_msg)\n",
    "\n",
    "messages"
   ]
  },
  {
   "cell_type": "code",
   "execution_count": 14,
   "id": "a7e39f34",
   "metadata": {},
   "outputs": [
    {
     "data": {
      "text/plain": [
       "AIMessage(content='3 * 12 = 36. 11 + 49 = 60.', additional_kwargs={}, response_metadata={'prompt_feedback': {'block_reason': 0, 'safety_ratings': []}, 'finish_reason': 'STOP', 'model_name': 'gemini-2.0-flash-lite', 'safety_ratings': []}, id='run-0e6d82fa-fad0-4426-a551-22db6a433e22-0', usage_metadata={'input_tokens': 100, 'output_tokens': 23, 'total_tokens': 123, 'input_token_details': {'cache_read': 0}})"
      ]
     },
     "execution_count": 14,
     "metadata": {},
     "output_type": "execute_result"
    }
   ],
   "source": [
    "llm_with_tools.invoke(messages)"
   ]
  },
  {
   "cell_type": "markdown",
   "id": "50ce54f8",
   "metadata": {},
   "source": [
    "### Tool Artifacts\n",
    "\n",
    "Outputs are designed to be fed back to a model. However, there are artifacts of a tool's execution that we want to make accessible to downstream"
   ]
  },
  {
   "cell_type": "code",
   "execution_count": 15,
   "id": "00ee4b67",
   "metadata": {},
   "outputs": [],
   "source": [
    "import random\n",
    "from typing import List, Tuple\n",
    "\n",
    "from langchain_core.tools import tool\n",
    "\n",
    "\n",
    "@tool(response_format=\"content_and_artifact\")\n",
    "def generate_random_ints(min: int, max: int, size: int) -> Tuple[str, List[int]]:\n",
    "    \"\"\"Generate size random ints in the range [min, max].\"\"\"\n",
    "    array = [random.randint(min, max) for _ in range(size)]\n",
    "    content = f\"Successfully generated array of {size} random ints in [{min}, {max}].\"\n",
    "    return content, array"
   ]
  },
  {
   "cell_type": "code",
   "execution_count": 16,
   "id": "df81664e",
   "metadata": {},
   "outputs": [
    {
     "data": {
      "text/plain": [
       "[{'name': 'generate_random_ints',\n",
       "  'args': {'size': 6.0, 'min': 1.0, 'max': 24.0},\n",
       "  'id': 'edd40db0-e68c-4b01-9c8d-3de3ee68dadb',\n",
       "  'type': 'tool_call'}]"
      ]
     },
     "execution_count": 16,
     "metadata": {},
     "output_type": "execute_result"
    }
   ],
   "source": [
    "llm_with_tools = llm.bind_tools([generate_random_ints])\n",
    "\n",
    "ai_msg = llm_with_tools.invoke(\"generate 6 positive ints less than 25\")\n",
    "ai_msg.tool_calls"
   ]
  },
  {
   "cell_type": "code",
   "execution_count": 17,
   "id": "5cd94bfb",
   "metadata": {},
   "outputs": [
    {
     "data": {
      "text/plain": [
       "ToolMessage(content='Successfully generated array of 6 random ints in [1, 24].', name='generate_random_ints', tool_call_id='edd40db0-e68c-4b01-9c8d-3de3ee68dadb', artifact=[22, 12, 23, 3, 5, 9])"
      ]
     },
     "execution_count": 17,
     "metadata": {},
     "output_type": "execute_result"
    }
   ],
   "source": [
    "generate_random_ints.invoke(ai_msg.tool_calls[0])"
   ]
  }
 ],
 "metadata": {
  "kernelspec": {
   "display_name": "langchain",
   "language": "python",
   "name": "python3"
  },
  "language_info": {
   "codemirror_mode": {
    "name": "ipython",
    "version": 3
   },
   "file_extension": ".py",
   "mimetype": "text/x-python",
   "name": "python",
   "nbconvert_exporter": "python",
   "pygments_lexer": "ipython3",
   "version": "3.11.11"
  }
 },
 "nbformat": 4,
 "nbformat_minor": 5
}
